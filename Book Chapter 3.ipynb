{
 "cells": [
  {
   "cell_type": "markdown",
   "metadata": {},
   "source": [
    "# Introduction to  Cryptography"
   ]
  },
  {
   "cell_type": "markdown",
   "metadata": {},
   "source": [
    "## Chapter 3"
   ]
  },
  {
   "cell_type": "markdown",
   "metadata": {},
   "source": [
    "### Formal Definition of a Cryptosystem"
   ]
  },
  {
   "cell_type": "markdown",
   "metadata": {},
   "source": [
    "A **cryptosystem** consists of the following:\n",
    "A **plaintext alphabet** *P*, a **ciphertext alphabet** *C*, a **plaintext space**, consisting of sets of strings in the plaintext alphabet *P*, a **ciphertext space** (i.e.. a set of strings in the ciphertext space C), a **keyspace** *K*, a collection of invertible encryption functions along with the corresponding decryption functions. In a **symmetric key cryptosystem** the cryptographic key for encryption of a plain text and decryption of ciphertext are the same.\n",
    "Where as in **asymmetric key cryptosystem**, the encryption key and decryption key are different which makes it difficult to compute the decryption key. Asymmetric key cryptosystems are also called **public key cryptosystem**."
   ]
  },
  {
   "cell_type": "markdown",
   "metadata": {},
   "source": [
    "**Affine Cipher**"
   ]
  },
  {
   "cell_type": "markdown",
   "metadata": {},
   "source": [
    "Given any pair of $\\alpha$, $\\beta$ of integers mod 26, where $\\alpha$ is relatively prime to 26, the corresponding affine cipher is defined using followng encryption function: $\\phi_{\\alpha,\\beta}$ : $\\mathbb{Z}_{26}$ ---> $\\mathbb{Z}_{26}$ :: $\\phi_{\\alpha,\\beta}$  ≡ $\\alpha$ x + $\\beta$ (mod 26) (applied to each modular integer in the sequence of plaintext). The condition gcd($\\alpha$, 26) = 1 is required for this function to be invertible. So that the inverse function is specified by the following: $$ {\\phi_{\\alpha,\\beta}}^{-1}(y)   ≡ {\\alpha}^{-1}(y - \\beta) (mod 26) $$ \n",
    "where y = $\\alpha$ x + $\\beta$. The key space for the affine affine cryptosystem can be taken as set of pairs ($\\alpha$, $\\beta$) where $\\alpha$ , $\\beta$ $\\in$ $\\mathbb{Z}_{26}$, and gcd($\\alpha$, 26) = 1."
   ]
  },
  {
   "cell_type": "markdown",
   "metadata": {},
   "source": [
    "For example : Compute the inverse of the affine mapping with parameters $\\alpha$ = 21, $\\beta$ = 4, when m = 26.\n",
    "<br>\n",
    "Let x = 4\n",
    "<br>\n",
    "y = $\\alpha$ x + $\\beta$\n",
    "<br>\n",
    "y = 21 * 4 + 4 = 88\n",
    "<br>\n",
    "ϕα,β ≡ α x + β (mod 26)\n",
    "<br>\n",
    "ϕα,β ≡ 88 (mod 26) => 10(mod 26)\n",
    "\n",
    "Decryption:\n",
    "<br>\n",
    "$$ {\\phi_{\\alpha,\\beta}}^{-1}(y)   ≡ {\\phi_{\\alpha,\\beta}}^{-1}(y)≡ {\\alpha}^{-1}(y - \\beta) (mod 26) $$ \n",
    "<br>\n",
    "$\\alpha^-1$(y - $\\beta$)  = 5 * (10 - 4) = 30.\n",
    "<br>\n",
    "Now 30 mod(26)  ≡ 4 (mod 26)\n"
   ]
  },
  {
   "cell_type": "markdown",
   "metadata": {},
   "source": [
    "### Coding Exercise"
   ]
  },
  {
   "cell_type": "markdown",
   "metadata": {},
   "source": [
    "** Basic Programs**"
   ]
  },
  {
   "cell_type": "code",
   "execution_count": 2,
   "metadata": {
    "collapsed": false
   },
   "outputs": [
    {
     "data": {
      "text/plain": [
       "Int2LCText (generic function with 1 method)"
      ]
     },
     "execution_count": 2,
     "metadata": {},
     "output_type": "execute_result"
    }
   ],
   "source": [
    "function  Int2LCText(Vec)\n",
    "    #str = Int2LCText(Vec)\n",
    "    #Input: Vec =  A vector of non negative integers in the range(0,1,2,...,25)\n",
    "    #Output: str = a string of corresponding Lower case Text (alphabet: a, b,...,z)\n",
    "    #0 => a, 1 => b...., 25 =>z\n",
    "x= 1;\n",
    "y = 'a';\n",
    "\n",
    "+(x::Integer,y::Char);\n",
    "    if (minimum(Vec) < 0 || maximum(Vec)> 25) \n",
    "        println(\"Error!!Input Integer components must between 0 and 25\")\n",
    "    else \n",
    "        str=[]; \n",
    "        for i = 1: length(Vec)\n",
    "            str =push!(str,Vec[i]+ y)\n",
    "        end\n",
    "    end\n",
    "    return str\n",
    "end\n",
    "\n",
    "    "
   ]
  },
  {
   "cell_type": "code",
   "execution_count": 3,
   "metadata": {
    "collapsed": false
   },
   "outputs": [
    {
     "data": {
      "text/plain": [
       "Int2UCText (generic function with 1 method)"
      ]
     },
     "execution_count": 3,
     "metadata": {},
     "output_type": "execute_result"
    }
   ],
   "source": [
    "function  Int2UCText(Vec)\n",
    "    #str = Int2LCText(Vec)\n",
    "    #Input: Vec =  A vector of non negative integers in the range(0,1,2,...,25)\n",
    "    #Output: str = a string of corresponding Upper case Text (alphabet: A, B,...,Z)\n",
    "    #0 => A, 1 => B...., 25 =>Z\n",
    "x= 1;\n",
    "y = 'A';\n",
    "\n",
    "+(x::Integer,y::Char);\n",
    "    if (minimum(Vec) < 0 || maximum(Vec)> 25) \n",
    "        println(\"Error!!Input Integer components must between 0 and 25\")\n",
    "    else \n",
    "        str=[]; \n",
    "        for i = 1: length(Vec)\n",
    "            str =push!(str,Vec[i]+ y)\n",
    "        end\n",
    "    end\n",
    "    return str\n",
    "end\n"
   ]
  },
  {
   "cell_type": "code",
   "execution_count": 4,
   "metadata": {
    "collapsed": false
   },
   "outputs": [
    {
     "data": {
      "text/plain": [
       "LCTEXT2Int (generic function with 1 method)"
      ]
     },
     "execution_count": 4,
     "metadata": {},
     "output_type": "execute_result"
    }
   ],
   "source": [
    "function LCTEXT2Int(str)\n",
    "x= 1;\n",
    "y = 'a';\n",
    "\n",
    "+(x::Integer,y::Char);\n",
    "    if (minimum(str) < 'a' || maximum(str)> 'z') \n",
    "        println(\"Error!!Input alphabet components must between a and z\")\n",
    "    else  \n",
    "        Vec =[]; \n",
    "        for i = 1: length(str)\n",
    "            Vec =push!(Vec,Int(str[i]) - Int(y))\n",
    "        end\n",
    "    end\n",
    "    return Vec\n",
    "end"
   ]
  },
  {
   "cell_type": "code",
   "execution_count": 5,
   "metadata": {
    "collapsed": false
   },
   "outputs": [
    {
     "data": {
      "text/plain": [
       "UCTEXT2Int (generic function with 1 method)"
      ]
     },
     "execution_count": 5,
     "metadata": {},
     "output_type": "execute_result"
    }
   ],
   "source": [
    "function UCTEXT2Int(str)\n",
    "x= 1;\n",
    "y = 'A';\n",
    "\n",
    "+(x::Integer,y::Char);\n",
    "    if (minimum(str) < 'A' || maximum(str)> 'Z') \n",
    "        println(\"Error!!Input Alphabet components must between A and Z\")\n",
    "    else  \n",
    "        Vec =[]; \n",
    "        for i = 1: length(str)\n",
    "            Vec =push!(Vec,Int(str[i]) - Int(y))\n",
    "        end\n",
    "    end\n",
    "    return Vec\n",
    "end"
   ]
  },
  {
   "cell_type": "code",
   "execution_count": 6,
   "metadata": {
    "collapsed": false
   },
   "outputs": [
    {
     "data": {
      "text/plain": [
       "ModInv (generic function with 1 method)"
      ]
     },
     "execution_count": 6,
     "metadata": {},
     "output_type": "execute_result"
    }
   ],
   "source": [
    "function ModInv(a,n)\n",
    "\n",
    "    (d,x,y) = EuclidAlgExt(a,n);\n",
    "    if d > 1\n",
    "        error(\"The number d = $d has no inverse\");\n",
    "    end\n",
    "    if a < n\n",
    "    ainv = mod(y,n);\n",
    "else \n",
    "    ainv = mod(x,n);\n",
    "end\n",
    "end\n",
    "    "
   ]
  },
  {
   "cell_type": "code",
   "execution_count": 7,
   "metadata": {
    "collapsed": false
   },
   "outputs": [
    {
     "data": {
      "text/plain": [
       "EuclidAlgExt (generic function with 1 method)"
      ]
     },
     "execution_count": 7,
     "metadata": {},
     "output_type": "execute_result"
    }
   ],
   "source": [
    "function EuclidAlgExt(a,b)\n",
    "    aa = max(a,b);\n",
    "    bb = min(a,b);\n",
    "    U = [aa 1 0];\n",
    "    V = [bb 0 1];\n",
    "    while V[1] > 0\n",
    "        W = U - floor(U[1]/V[1]) * V;\n",
    "        U = V;\n",
    "        V = W;\n",
    "    end\n",
    "    d = U[1];\n",
    "    x = U[2];\n",
    "    y = U[3];\n",
    "    OutVec = [d x y];\n",
    "end"
   ]
  },
  {
   "cell_type": "markdown",
   "metadata": {},
   "source": [
    "**Implement Affine Cipher**"
   ]
  },
  {
   "cell_type": "code",
   "execution_count": 8,
   "metadata": {
    "collapsed": false
   },
   "outputs": [
    {
     "data": {
      "text/plain": [
       "AffineCrypt (generic function with 1 method)"
      ]
     },
     "execution_count": 8,
     "metadata": {},
     "output_type": "execute_result"
    }
   ],
   "source": [
    "function AffineCrypt(str,alpha,beta)\n",
    "    # str = a string of Lower Case alphabets .. a,b,c,...,z\n",
    "    #alpha, kappa, integers mod 26, with gcd(alpha, 26) = 1. (0,1,2,...,25)\n",
    "    #Output: StrOut=> a string of corresponding Upper - case cipher text\n",
    "    \n",
    "    Vec = LCTEXT2Int(str);\n",
    "    VecOut = mod(alpha*Vec + beta, 26);\n",
    "    StrOut = Int2UCText(VecOut);\n",
    "end"
   ]
  },
  {
   "cell_type": "code",
   "execution_count": 9,
   "metadata": {
    "collapsed": false
   },
   "outputs": [
    {
     "data": {
      "text/plain": [
       "22-element Array{Any,1}:\n",
       " 'F'\n",
       " 'X'\n",
       " 'V'\n",
       " 'I'\n",
       " 'I'\n",
       " 'X'\n",
       " 'G'\n",
       " 'A'\n",
       " 'F'\n",
       " 'C'\n",
       " 'R'\n",
       " 'I'\n",
       " 'A'\n",
       " 'O'\n",
       " 'F'\n",
       " 'O'\n",
       " 'C'\n",
       " 'V'\n",
       " 'L'\n",
       " 'G'\n",
       " 'V'\n",
       " 'F'"
      ]
     },
     "execution_count": 9,
     "metadata": {},
     "output_type": "execute_result"
    }
   ],
   "source": [
    "str = \"threehostilesatairport\"\n",
    "alpha = 5;\n",
    "beta = 14;\n",
    "\n",
    "AffineCrypt(str,alpha,beta)"
   ]
  },
  {
   "cell_type": "markdown",
   "metadata": {},
   "source": [
    "**Implement Affine Cipher decryption **"
   ]
  },
  {
   "cell_type": "code",
   "execution_count": 10,
   "metadata": {
    "collapsed": false
   },
   "outputs": [
    {
     "data": {
      "text/plain": [
       "AffineDeCrypt (generic function with 1 method)"
      ]
     },
     "execution_count": 10,
     "metadata": {},
     "output_type": "execute_result"
    }
   ],
   "source": [
    "function AffineDeCrypt(str, alpha, beta)\n",
    "\n",
    "\n",
    "    Vec = UCTEXT2Int(str);\n",
    "    VecOut = trunc(Int,mod(ModInv(alpha,26)*(Vec- beta), 26));\n",
    "\n",
    "    strOut = Int2LCText(VecOut);\n",
    "end"
   ]
  },
  {
   "cell_type": "code",
   "execution_count": 12,
   "metadata": {
    "collapsed": false
   },
   "outputs": [
    {
     "data": {
      "text/plain": [
       "22-element Array{Any,1}:\n",
       " 't'\n",
       " 'h'\n",
       " 'r'\n",
       " 'e'\n",
       " 'e'\n",
       " 'h'\n",
       " 'o'\n",
       " 's'\n",
       " 't'\n",
       " 'i'\n",
       " 'l'\n",
       " 'e'\n",
       " 's'\n",
       " 'a'\n",
       " 't'\n",
       " 'a'\n",
       " 'i'\n",
       " 'r'\n",
       " 'p'\n",
       " 'o'\n",
       " 'r'\n",
       " 't'"
      ]
     },
     "execution_count": 12,
     "metadata": {},
     "output_type": "execute_result"
    }
   ],
   "source": [
    "str = \"FXVIIXGAFCRIAOFOCVLGVF\";\n",
    "alpha = 5;\n",
    "beta = 14;\n",
    " AffineDeCrypt(str, alpha, beta)"
   ]
  },
  {
   "cell_type": "markdown",
   "metadata": {},
   "source": []
  },
  {
   "cell_type": "markdown",
   "metadata": {},
   "source": [
    "* "
   ]
  }
 ],
 "metadata": {
  "kernelspec": {
   "display_name": "Julia 0.5.2",
   "language": "julia",
   "name": "julia-0.5"
  },
  "language_info": {
   "file_extension": ".jl",
   "mimetype": "application/julia",
   "name": "julia",
   "version": "0.5.2"
  }
 },
 "nbformat": 4,
 "nbformat_minor": 0
}
