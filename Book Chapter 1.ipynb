{
 "cells": [
  {
   "cell_type": "markdown",
   "metadata": {},
   "source": [
    "# Introduction to Cryptography"
   ]
  },
  {
   "cell_type": "markdown",
   "metadata": {},
   "source": [
    "## Chapter 1 : An Overview of Subject "
   ]
  },
  {
   "cell_type": "markdown",
   "metadata": {},
   "source": [
    "### Motivation"
   ]
  },
  {
   "cell_type": "markdown",
   "metadata": {},
   "source": [
    "\n",
    "Throughout history, we could see that efficient communication is a matter of great concern to govern the nation and command the armies. At the same time, they are well aware of the consequences of their messages falling into the wrong hands, revealing precious secrets to rival nations and betraying vital information to opposing forces.[2] This threat motivated the development of codes and ciphers: techniques for disguising a message so that only the intended recipient can read it.[2]\n",
    "\n"
   ]
  },
  {
   "cell_type": "markdown",
   "metadata": {},
   "source": [
    "### Introduction"
   ]
  },
  {
   "cell_type": "markdown",
   "metadata": {},
   "source": [
    "Cryptography is the art of secret communication. Authentication and integrity are the important aspects of cryptography. Authentication allows receiving parties to make sure that the communication come from the genuine sender[1]. Integrity ensures that the message received is not altetred. \n",
    "\n",
    "<img src=\"Chapter_Crypto1.jpg\">\n",
    "Figure 1.1 The figure illustrates a basic cryptosystem.\n",
    "\n",
    "The characters in the figure are Dspboy, Jarvis and hacker. The hackers try to break the code and may manipulate the information conveyed. So to ensure a reliable transfer of original message, Dspboy has to convert the original message  (**plain text**) to secret code (**cipher text**). The conversion of original plain text to cipher text is called **encryption**. \n",
    "At the receiver side Jarvis will decrypt the cipher text to original message. Encryption \n",
    "and decryption are done using a key. So this means the sender and receiver should know the key.\n",
    "\n",
    "With the advent of high speed computers extremely complicated cryptosystems can be implemented, but at the same time hackers can use powerful computing tools to break the cryptosystems. There is always an intellectual battle between code makers and code breakers. \n",
    "This is very evident from history. So **Cryptography** or **Cryptology** is an ever challenging area. This is because a code is useful only till the code breakers find a way to break the code. Then the code either becomes extinct or evolves into a new stronger code. This continues forever.\n",
    "\n",
    "Now the interesting question is: *Where do we implement cryptosystems?*\n",
    "\n",
    "Cryptosystems can be implemented on any alphabet. An **Alphabet** is any finite set of symbols. For example 26 uppercase English letters *{A,B,C,D,...,Z}* is a  alphabet. Binary alphabet are represented as *{0,1}*. Any ordered sequence of letters from a alphabet is called **string**. For example *SHANNON* is a string of length 7. **Binary strings** (also called as *bit strings*) are strings from the **binary alphabet** {0,1}. For example, 101001 \n",
    "is a bit string of length 6. Each individual digit in a binary string is called **bit**.\n",
    "\n",
    "There are several algorithms developed from time to time to accomplish the encryption and decryption process. In the coming section we will take a journey through the evolution of codes.\n"
   ]
  },
  {
   "cell_type": "markdown",
   "metadata": {},
   "source": [
    "### Coding Exercise"
   ]
  },
  {
   "cell_type": "markdown",
   "metadata": {},
   "source": [
    "** Converting Strings of Digits to/from Vectors**\n",
    "<br>\n",
    "*  **Integer Vector to Lower-Case String**"
   ]
  },
  {
   "cell_type": "code",
   "execution_count": 1,
   "metadata": {},
   "outputs": [
    {
     "data": {
      "text/plain": [
       "Int2LCText (generic function with 1 method)"
      ]
     },
     "execution_count": 1,
     "metadata": {},
     "output_type": "execute_result"
    }
   ],
   "source": [
    "function  Int2LCText(Vec)\n",
    "    #str = Int2LCText(Vec)\n",
    "    #Input: Vec =  A vector of non negative integers in the range(0,1,2,...,25)\n",
    "    #Output: str = a string of corresponding Lower case Text (alphabet: a, b,...,z)\n",
    "    #0 => a, 1 => b...., 25 =>z\n",
    "x= 1;\n",
    "y = 'a';\n",
    "\n",
    "+(x::Integer,y::Char);\n",
    "    if (minimum(Vec) < 0 || maximum(Vec)> 25) \n",
    "        println(\"Error!!Input Integer components must between 0 and 25\")\n",
    "    else \n",
    "        str=[]; \n",
    "        for i = 1: length(Vec)\n",
    "            str =push!(str,Vec[i]+ y)\n",
    "        end\n",
    "    end\n",
    "    return str\n",
    "end\n",
    "\n"
   ]
  },
  {
   "cell_type": "code",
   "execution_count": 2,
   "metadata": {},
   "outputs": [
    {
     "data": {
      "text/plain": [
       "10-element Array{Any,1}:\n",
       " 'b'\n",
       " 'c'\n",
       " 'd'\n",
       " 'e'\n",
       " 'f'\n",
       " 'g'\n",
       " 'h'\n",
       " 'i'\n",
       " 'j'\n",
       " 'k'"
      ]
     },
     "execution_count": 2,
     "metadata": {},
     "output_type": "execute_result"
    }
   ],
   "source": [
    "str = Int2LCText([1,2,3,4,5,6,7,8,9,10])\n"
   ]
  },
  {
   "cell_type": "markdown",
   "metadata": {},
   "source": [
    "* ** Convert Integer Vector to Upper Case Text**"
   ]
  },
  {
   "cell_type": "code",
   "execution_count": 3,
   "metadata": {},
   "outputs": [
    {
     "data": {
      "text/plain": [
       "Int2UCText (generic function with 1 method)"
      ]
     },
     "execution_count": 3,
     "metadata": {},
     "output_type": "execute_result"
    }
   ],
   "source": [
    "function  Int2UCText(Vec)\n",
    "    #str = Int2LCText(Vec)\n",
    "    #Input: Vec =  A vector of non negative integers in the range(0,1,2,...,25)\n",
    "    #Output: str = a string of corresponding Upper case Text (alphabet: A, B,...,Z)\n",
    "    #0 => A, 1 => B...., 25 =>Z\n",
    "x= 1;\n",
    "y = 'A';\n",
    "\n",
    "+(x::Integer,y::Char);\n",
    "    if (minimum(Vec) < 0 || maximum(Vec)> 25) \n",
    "        println(\"Error!!Input Integer components must between 0 and 25\")\n",
    "    else \n",
    "        str=[]; \n",
    "        for i = 1: length(Vec)\n",
    "            str =push!(str,Vec[i]+ y)\n",
    "        end\n",
    "    end\n",
    "    return str\n",
    "end"
   ]
  },
  {
   "cell_type": "code",
   "execution_count": 4,
   "metadata": {},
   "outputs": [
    {
     "data": {
      "text/plain": [
       "10-element Array{Any,1}:\n",
       " 'B'\n",
       " 'C'\n",
       " 'D'\n",
       " 'E'\n",
       " 'F'\n",
       " 'G'\n",
       " 'H'\n",
       " 'I'\n",
       " 'J'\n",
       " 'Z'"
      ]
     },
     "execution_count": 4,
     "metadata": {},
     "output_type": "execute_result"
    }
   ],
   "source": [
    "Int2UCText([1 2 3 4 5 6 7 8 9 25])"
   ]
  },
  {
   "cell_type": "markdown",
   "metadata": {},
   "source": [
    "* **Convert Lower Case Text to Integers**"
   ]
  },
  {
   "cell_type": "code",
   "execution_count": 5,
   "metadata": {},
   "outputs": [
    {
     "data": {
      "text/plain": [
       "LCTEXT2Int (generic function with 1 method)"
      ]
     },
     "execution_count": 5,
     "metadata": {},
     "output_type": "execute_result"
    }
   ],
   "source": [
    "function LCTEXT2Int(str)\n",
    "    #Vec = LCTEXT2Int(str)\n",
    "    #Input: str = a string of corresponding Lower case Text (alphabet: a, b,...,z)\n",
    "    #0 => a, 1 => b...., 25 =>z \n",
    "    #Output: Vec = A vector of non negative integers in the range(0,1,2,...,25)\n",
    "    \n",
    "x= 1;\n",
    "y = 'a';\n",
    "\n",
    "+(x::Integer,y::Char);\n",
    "    if (minimum(str) < 'a' || maximum(str)> 'z') \n",
    "        println(\"Error!!Input alphabet components must between a and z\")\n",
    "    else  \n",
    "        Vec =[]; \n",
    "        for i = 1: length(str)\n",
    "            Vec =push!(Vec,Int(str[i]) - Int(y))\n",
    "        end\n",
    "    end\n",
    "    return Vec\n",
    "end"
   ]
  },
  {
   "cell_type": "code",
   "execution_count": 6,
   "metadata": {},
   "outputs": [
    {
     "data": {
      "text/plain": [
       "11-element Array{Any,1}:\n",
       "  0\n",
       "  2\n",
       "  3\n",
       "  4\n",
       "  5\n",
       "  6\n",
       "  7\n",
       "  8\n",
       "  9\n",
       " 10\n",
       " 11"
      ]
     },
     "execution_count": 6,
     "metadata": {},
     "output_type": "execute_result"
    }
   ],
   "source": [
    "str =['a','c','d','e','f','g','h','i','j','k','l'];\n",
    "LCTEXT2Int(str)"
   ]
  },
  {
   "cell_type": "markdown",
   "metadata": {},
   "source": [
    "* **Convert Lower Case text with spaces to integers **"
   ]
  },
  {
   "cell_type": "code",
   "execution_count": 7,
   "metadata": {},
   "outputs": [
    {
     "data": {
      "text/plain": [
       "LCTextWithSpaces2Int (generic function with 1 method)"
      ]
     },
     "execution_count": 7,
     "metadata": {},
     "output_type": "execute_result"
    }
   ],
   "source": [
    "function  LCTextWithSpaces2Int(str)\n",
    "   # Vec = LCTextWithSpaces2Int(str)\n",
    "# Input: str = a string of lowercase text with spaces\n",
    "    # Output:  Vec = the vector of nonnegative integers in the range (0, 1, ..., 25, 26)\n",
    "# under the standard correspondence:\n",
    "# 0 <-> a,  1 <-> b, ..., 25 <-> z, 26 <-> space\n",
    "\n",
    "Vec =[];\n",
    "for i = 1:length(str)\n",
    "    if Int(str[i]) > 32\n",
    "        Vec = push!(Vec,Int(str[i]) - Int('a'));\n",
    "    else\n",
    "        Vec = push!(Vec,26);\n",
    "    end\n",
    "end\n",
    "    return Vec\n",
    "end"
   ]
  },
  {
   "cell_type": "code",
   "execution_count": 8,
   "metadata": {},
   "outputs": [
    {
     "data": {
      "text/plain": [
       "18-element Array{Any,1}:\n",
       "  4\n",
       "  0\n",
       " 17\n",
       " 19\n",
       "  7\n",
       " 26\n",
       "  8\n",
       " 18\n",
       " 26\n",
       "  1\n",
       "  4\n",
       "  0\n",
       " 20\n",
       " 19\n",
       "  8\n",
       "  5\n",
       " 20\n",
       " 11"
      ]
     },
     "execution_count": 8,
     "metadata": {},
     "output_type": "execute_result"
    }
   ],
   "source": [
    "str = \"earth is beautiful\"\n",
    "LCTextWithSpaces2Int(str)\n"
   ]
  },
  {
   "cell_type": "markdown",
   "metadata": {},
   "source": [
    "* **Convert Upper Case Text to Integers**"
   ]
  },
  {
   "cell_type": "code",
   "execution_count": 9,
   "metadata": {},
   "outputs": [
    {
     "data": {
      "text/plain": [
       "UCTEXT2Int (generic function with 1 method)"
      ]
     },
     "execution_count": 9,
     "metadata": {},
     "output_type": "execute_result"
    }
   ],
   "source": [
    "function UCTEXT2Int(str)\n",
    "     #Input: str = a string of corresponding Upper case Text (alphabet: A, B,...,Z) \n",
    "    # Output :Vec = A vector of non negative integers in the range(0,1,2,...,25)\n",
    "x= 1;\n",
    "y = 'A';\n",
    "\n",
    "+(x::Integer,y::Char);\n",
    "    if (minimum(str) < 'A' || maximum(str)> 'Z') \n",
    "        println(\"Error!!Input Alphabet components must between A and Z\")\n",
    "    else  \n",
    "        Vec =[]; \n",
    "        for i = 1: length(str)\n",
    "            Vec =push!(Vec,Int(str[i]) - Int(y))\n",
    "        end\n",
    "    end\n",
    "    return Vec\n",
    "end"
   ]
  },
  {
   "cell_type": "code",
   "execution_count": 10,
   "metadata": {},
   "outputs": [
    {
     "data": {
      "text/plain": [
       "3-element Array{Any,1}:\n",
       "  8\n",
       "  0\n",
       " 12"
      ]
     },
     "execution_count": 10,
     "metadata": {},
     "output_type": "execute_result"
    }
   ],
   "source": [
    "str = \"IAM\"\n",
    "UCTEXT2Int(str)"
   ]
  },
  {
   "cell_type": "markdown",
   "metadata": {},
   "source": [
    "* **Convert Upper Case Text to Lower Case Text**"
   ]
  },
  {
   "cell_type": "code",
   "execution_count": 11,
   "metadata": {},
   "outputs": [
    {
     "data": {
      "text/plain": [
       "UCText2LCText (generic function with 1 method)"
      ]
     },
     "execution_count": 11,
     "metadata": {},
     "output_type": "execute_result"
    }
   ],
   "source": [
    "function UCText2LCText(str)\n",
    "    #Input: str = a string of corresponding Upper case Text (alphabet: A, B,...,Z) \n",
    "    #Output:  #Output: str = a string of corresponding Lower case Text (alphabet: a, b,...,z)\n",
    "    str = Int2LCText(UCTEXT2Int(str));\n",
    "end"
   ]
  },
  {
   "cell_type": "code",
   "execution_count": 12,
   "metadata": {},
   "outputs": [
    {
     "data": {
      "text/plain": [
       "6-element Array{Any,1}:\n",
       " 'm'\n",
       " 'o'\n",
       " 't'\n",
       " 'h'\n",
       " 'e'\n",
       " 'r'"
      ]
     },
     "execution_count": 12,
     "metadata": {},
     "output_type": "execute_result"
    }
   ],
   "source": [
    "str =\"MOTHER\"\n",
    "UCText2LCText(str)\n"
   ]
  },
  {
   "cell_type": "markdown",
   "metadata": {},
   "source": [
    "* **Convert Lower case text to upper case text**"
   ]
  },
  {
   "cell_type": "code",
   "execution_count": 13,
   "metadata": {},
   "outputs": [
    {
     "data": {
      "text/plain": [
       "LCText2UCText (generic function with 1 method)"
      ]
     },
     "execution_count": 13,
     "metadata": {},
     "output_type": "execute_result"
    }
   ],
   "source": [
    "function  LCText2UCText(str)\n",
    "    str = Int2UCText(LCTEXT2Int(str))\n",
    "end"
   ]
  },
  {
   "cell_type": "code",
   "execution_count": 14,
   "metadata": {},
   "outputs": [
    {
     "data": {
      "text/plain": [
       "6-element Array{Any,1}:\n",
       " 'N'\n",
       " 'A'\n",
       " 'T'\n",
       " 'U'\n",
       " 'R'\n",
       " 'E'"
      ]
     },
     "execution_count": 14,
     "metadata": {},
     "output_type": "execute_result"
    }
   ],
   "source": [
    "str = \"nature\"\n",
    "LCText2UCText(str)"
   ]
  },
  {
   "cell_type": "markdown",
   "metadata": {},
   "source": [
    "### Evolution of Codes"
   ]
  },
  {
   "cell_type": "markdown",
   "metadata": {},
   "source": [
    "#### The Cipher of Mary Queen of Scots"
   ]
  },
  {
   "cell_type": "markdown",
   "metadata": {},
   "source": [
    "                                                              \n",
    "<img src=\"mary-queen.jpg\"  height=\"500\" width=\"500\" > \n",
    "Figure1.2 Mary Queen of Scots(Source: Wikipedia)\n",
    "<br>\n",
    "\n",
    "Mary wanted to assassinate Queen Elizabeth I in order to take the English crown for  herself.She began exchanging messages with her co-conspirators. But unfortuntely Mary's messages were captured by Elizabeth's spies and Mary was put on trial for treason. But Mary had the hope that she will not be charged for treason. This was because their messages  enciphered, so that they could not be read if they fell into the wrong hands.\n",
    "\n",
    "But her fate was already sealed by the breaking of the codes by Elizabeth's cheif code breaker.\n",
    "\n",
    "<img src=\"marycipher.jpg\" height=\"500\" width=\"500\">\n",
    "Figure 1.3 Ciphers used by Mary Queen of Scots(Source:http://www.nationalarchives.gov.uk/education/resources/elizabeth-monarchy/ciphers-used-by-mary-queen-of-scots/)\n",
    "\n",
    " Each letter from A to Z was **substituted** by a cipher alphabet. The cipher also contains some code symbols for the most common words, and some more sophisticated symbols.\n",
    "\n",
    "**Substitution cipher** is simply a *mapping* from a *plaintext alphabet* to a *unique ciphertext alphabet*.\n",
    "\n",
    "**Example** : Let the plaintext be the set of lowercase letters P = {a, b, c,...,z} and the ciphertext be the set of uppercase letters P = {A,B,C,....,Z}. \n",
    " \n",
    " **Plaintext letters**: abcdefghijklmnopqrstuvwxyz\n",
    " <br>\n",
    "**Ciphertext letters**: QWERTYUIOPASDFGHJKLZXCVBNM\n",
    "<br>\n",
    "Using this key, every plaintext letter *a* would be replaced by ciphertext *Q*, every plaintext letter *q* by *J*, etc. \n",
    "<br>\n",
    "One of the earliest descriptions of encryption by substitution appears in the Kama-sutra. The Kama-sutra recommends that women should study sixty-four arts.  Number forty-five on the list is mlecchita-vikalpa, the art of secret writing, recommended in order to help women conceal the details of their liaisons.\n",
    "\n",
    " "
   ]
  },
  {
   "cell_type": "markdown",
   "metadata": {},
   "source": [
    "#### The Caesar Cipher"
   ]
  },
  {
   "cell_type": "markdown",
   "metadata": {},
   "source": [
    "<img src=\"Caesar.jpg\"  height=\"256\" width=\"256\" > \n",
    "Figure1.4a Caesar Cipher(Source: https://ehistory.osu.edu/biographies/gaius-julius-caesar)\n",
    "<br>\n",
    "\n",
    "Caesar  replaced each letter in the message with the letter that is three places further down the alphabet. When the plain alphabet is placed above the cipher alphabet,  it is clear that the cipher alphabet has been shifted by three places, and hence this form of substitution is often called the **Caesar shift cipher**, or simply the *Caesar cipher*.\n",
    "\n",
    " <img src=\"ceaser-shift.jpg\" > \n",
    " Figure1.4b Caesar Cipher"
   ]
  },
  {
   "cell_type": "markdown",
   "metadata": {},
   "source": [
    "### Coding Exercise"
   ]
  },
  {
   "cell_type": "markdown",
   "metadata": {},
   "source": [
    "* ** Implement Shift Encryption Cipher**"
   ]
  },
  {
   "cell_type": "code",
   "execution_count": 15,
   "metadata": {},
   "outputs": [
    {
     "data": {
      "text/plain": [
       "ShiftCrypt (generic function with 1 method)"
      ]
     },
     "execution_count": 15,
     "metadata": {},
     "output_type": "execute_result"
    }
   ],
   "source": [
    "function ShiftCrypt(str,kappa)\n",
    "# Vec = LCTextWithSpaces2Int(str)\n",
    "# Input: str = a string of lowercase text with spaces\n",
    "# Output:  Vec = the vector of nonnegative integers in the range (0, 1, ..., 25, 26)\n",
    "# under the standard correspondence:\n",
    "# 0 <-> a,  1 <-> b, ..., 25 <-> z, 26 <-> space\n",
    "\n",
    "    \n",
    "    Vec = LCTEXT2Int(str);\n",
    "    VecOut = mod(Vec + kappa, 26);\n",
    "    StrOut = Int2UCText(VecOut)\n",
    "end"
   ]
  },
  {
   "cell_type": "code",
   "execution_count": 16,
   "metadata": {},
   "outputs": [
    {
     "data": {
      "text/plain": [
       "5-element Array{Any,1}:\n",
       " 'D'\n",
       " 'E'\n",
       " 'F'\n",
       " 'G'\n",
       " 'C'"
      ]
     },
     "execution_count": 16,
     "metadata": {},
     "output_type": "execute_result"
    }
   ],
   "source": [
    "str =\"abcdz\"\n",
    "kappa = 3;\n",
    "ShiftCrypt(str,kappa)"
   ]
  },
  {
   "cell_type": "markdown",
   "metadata": {},
   "source": [
    "#### Vigenere Cipher"
   ]
  },
  {
   "cell_type": "markdown",
   "metadata": {},
   "source": [
    "Vigenere Cipher requires a **key** and **Vigenere Tableau**. We will understand Vigenere Cipher with an example. \n",
    "<br>\n",
    "**Plaintext** = nature\n",
    "<br>\n",
    "**keyword**   = MOTHER\n",
    "<br> \n",
    "Now we need *Vigenere Tableau* to **encode**\n",
    "<img src=\"vigenere-cipher.png\" >\n",
    "Figure1.5 Vigenere Tableau\n",
    "<br>\n",
    "\n",
    "**Steps to encode**\n",
    "<br>\n",
    "**Plaintext** = nature\n",
    "<br>\n",
    "**keyword**   = mother\n",
    "<br> \n",
    "*Step 1* : Consider the first elements of plaintext and keyword i.e **n** and **m** respectively.\n",
    "<br>\n",
    "*Step 2* : Locate the column corresponding to the first element of plaintext i.e **n** from the Vigenere Tableau.\n",
    "<br>\n",
    "*Step 3* : Locate the row corresponding to the first element of keyword i.e **m** from the Vigenere Tableau.\n",
    "<br>\n",
    "*Step 4* : The intersection of the row and column will be letter. This letter will be the first element of ciphertext.\n",
    "<br>\n",
    "*Step 5* : Repeat the above steps for the remaining letters.\n",
    "<br>\n",
    "Note:  The length of plaintext and keyword has to be same. \n",
    "<br>\n",
    "Note:  The intersection of column corresponding to the*ith* element of plaintext and row corresponding to *ith* element of keyword is used to get the *ith* element of ciphertext.\n",
    "<br>\n",
    "**ciphertext** : ZOMBVV"
   ]
  },
  {
   "cell_type": "markdown",
   "metadata": {},
   "source": [
    "### Coding Exercise"
   ]
  },
  {
   "cell_type": "markdown",
   "metadata": {},
   "source": [
    "* **Implement Vigenere Cipher** "
   ]
  },
  {
   "cell_type": "code",
   "execution_count": 17,
   "metadata": {},
   "outputs": [
    {
     "data": {
      "text/plain": [
       "vigener_crypt (generic function with 1 method)"
      ]
     },
     "execution_count": 17,
     "metadata": {},
     "output_type": "execute_result"
    }
   ],
   "source": [
    "function vigener_crypt(str, keystr)\n",
    "#Inputs: str = a string of lower case text (alphabet: a, b, ..., z)\n",
    "#keystr = a string of lower case text (alphabet: a, b, ..., z)\n",
    "#Output: StrOut = a string of corresponding Upper-Case ciphertext (alphabet: A, B, ..., Z):\n",
    "#resulting from encrypting str using the Vigenere cipher with key ke\n",
    "    if length(str) == length(keystr)\n",
    "        return Int2UCText(mod(LCTEXT2Int(str) + LCTEXT2Int(keystr), 26));\n",
    "    else\n",
    "        error(\"Plain text and the key word should have the same length\");\n",
    "    end\n",
    "end"
   ]
  },
  {
   "cell_type": "code",
   "execution_count": 18,
   "metadata": {},
   "outputs": [
    {
     "data": {
      "text/plain": [
       "6-element Array{Any,1}:\n",
       " 'Z'\n",
       " 'O'\n",
       " 'M'\n",
       " 'B'\n",
       " 'V'\n",
       " 'V'"
      ]
     },
     "execution_count": 18,
     "metadata": {},
     "output_type": "execute_result"
    }
   ],
   "source": [
    "str = \"nature\"\n",
    "keystr = \"mother\";\n",
    "vigener_crypt(str, keystr)"
   ]
  },
  {
   "cell_type": "markdown",
   "metadata": {},
   "source": [
    "* **Implement Vigenere Cipher Decryption** "
   ]
  },
  {
   "cell_type": "code",
   "execution_count": 19,
   "metadata": {},
   "outputs": [
    {
     "data": {
      "text/plain": [
       "VigenereDecrypt (generic function with 1 method)"
      ]
     },
     "execution_count": 19,
     "metadata": {},
     "output_type": "execute_result"
    }
   ],
   "source": [
    "function VigenereDecrypt(str,keystr)\n",
    "    Vec = LCTEXT2Int(keystr);\n",
    "    keylength = length(keystr);\n",
    "    LCSTR = Int2LCText(UCTEXT2Int(str));\n",
    "    StrOut = [];\n",
    "    for i = 1:length(str)\n",
    "        ishift  = mod(i,keylength);\n",
    "        if ishift == 0\n",
    "            ishift = keylength;\n",
    "        end\n",
    "        StrOut = push!(StrOut,ShiftCrypt(LCSTR[i],-Vec[ishift]));\n",
    "    end\n",
    "    \n",
    "   # StrOut = Int2LCText(UCTEXT2Int(StrOut));\n",
    "    return StrOut\n",
    "end"
   ]
  },
  {
   "cell_type": "code",
   "execution_count": 20,
   "metadata": {},
   "outputs": [
    {
     "data": {
      "text/plain": [
       "6-element Array{Any,1}:\n",
       " Any['N']\n",
       " Any['A']\n",
       " Any['T']\n",
       " Any['U']\n",
       " Any['R']\n",
       " Any['E']"
      ]
     },
     "execution_count": 20,
     "metadata": {},
     "output_type": "execute_result"
    }
   ],
   "source": [
    "str = \"ZOMBVV\"\n",
    "keystr = \"mother\";\n",
    "VigenereDecrypt(str,keystr)"
   ]
  },
  {
   "cell_type": "markdown",
   "metadata": {},
   "source": [
    "* ** Implement Random Integer Generation**"
   ]
  },
  {
   "cell_type": "code",
   "execution_count": 21,
   "metadata": {},
   "outputs": [
    {
     "data": {
      "text/plain": [
       "RandIntGen (generic function with 1 method)"
      ]
     },
     "execution_count": 21,
     "metadata": {},
     "output_type": "execute_result"
    }
   ],
   "source": [
    "function RandIntGen(mini,maxi,len)\n",
    "#Vec = RandIntGen(min, max, length)\n",
    "# Inputs:  min, max, length, where, min < max are integers, and length is a positive integer.\n",
    "#Output:  Vec, a vector with length components that are \n",
    "#radomly generated integers in the range min <= k <= max\n",
    "    Vec = mini + floor((maxi + 1 - mini)*rand(1,len));\n",
    "end"
   ]
  },
  {
   "cell_type": "code",
   "execution_count": 22,
   "metadata": {},
   "outputs": [
    {
     "data": {
      "text/plain": [
       "1×10 Array{Float64,2}:\n",
       " 1.0  1.0  1.0  5.0  1.0  4.0  3.0  4.0  2.0  4.0"
      ]
     },
     "execution_count": 22,
     "metadata": {},
     "output_type": "execute_result"
    }
   ],
   "source": [
    "mini = 1;\n",
    "maxi = 5;\n",
    "len = 10\n",
    "RandIntGen(mini,maxi,len)"
   ]
  },
  {
   "cell_type": "markdown",
   "metadata": {},
   "source": [
    "### Reference"
   ]
  },
  {
   "cell_type": "markdown",
   "metadata": {},
   "source": [
    "[1] Stanoyevitch, Alexander. Introduction to Cryptography with mathematical foundations and computer implementations. CRC Press, 2010.\n",
    "\n",
    "\n",
    "[2] Singh, Simon. The code book: the secret history of codes and code-breaking. Fourth Estate, 2000."
   ]
  }
 ],
 "metadata": {
  "kernelspec": {
   "display_name": "Julia 0.4.5",
   "language": "julia",
   "name": "julia-0.4"
  },
  "language_info": {
   "file_extension": ".jl",
   "mimetype": "application/julia",
   "name": "julia",
   "version": "0.4.5"
  }
 },
 "nbformat": 4,
 "nbformat_minor": 1
}
