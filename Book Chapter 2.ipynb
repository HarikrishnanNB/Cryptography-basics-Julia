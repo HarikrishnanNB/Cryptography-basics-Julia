{
 "cells": [
  {
   "cell_type": "markdown",
   "metadata": {},
   "source": [
    "# Introduction to Cryptography"
   ]
  },
  {
   "cell_type": "markdown",
   "metadata": {},
   "source": [
    "## Chapter 2 Divisibility and Modular Arithmetic"
   ]
  },
  {
   "cell_type": "markdown",
   "metadata": {},
   "source": [
    "*\"Why are numbers beautiful? It’s like asking why is Beethoven’s Ninth Symphony beautiful. If you don’t see why, someone can’t tell you. I know numbers are beautiful. If they aren’t beautiful, nothing is\".* \n",
    "\n",
    "**- Paul Erdős**"
   ]
  },
  {
   "cell_type": "markdown",
   "metadata": {},
   "source": [
    "**Number Theory** is the branch of mathematics that deals with the properties and relationships of numbers, especially the positive integers. Number theory is one of the bedrocks of cryptography."
   ]
  },
  {
   "cell_type": "markdown",
   "metadata": {},
   "source": [
    "### Definitions"
   ]
  },
  {
   "cell_type": "markdown",
   "metadata": {},
   "source": [
    "**Divisibility** : Let *a* and *b* be integers with *a* $\\neq$ 0. We say that a divides b(written as a | b) or a is a factor of b if there is an integer c such that b = ac. Or in other words b is a multiple of a.\n",
    "\n"
   ]
  },
  {
   "cell_type": "markdown",
   "metadata": {},
   "source": [
    "For Example: a = 2, b = 4. We say a divides b written as a | b(meaning a is a factor of b or b is a multiple of a ) if there exist an **integer** c such that (b/a = c) or (b = ac). So in our example (b/a = 4/2 = 2) or( b = a * 2), where c = 2. "
   ]
  },
  {
   "cell_type": "markdown",
   "metadata": {},
   "source": [
    "**Theorem 2.1**\n",
    "<br>\n",
    "Let a, b and c are integers.\n",
    "<br>\n",
    "* Divisibility is transitive. If **a|b** and **b|c** then **a|c**.\n",
    "<br>\n",
    "* If **a|b** and **a|c** then **a|(bx+cy)** for any integers **x** and **y**.\n",
    "<br>\n",
    "\n",
    "Let us understand *Divisibility is transitive* by an example. Let a = 2, b = 4, c = 8. From definition of divisibility a|b means( b/a = integer=> 4/2 = 2) and b|c means (c/b = integer=> 8/4 =2).This implies a|c (meaning c/a = integer=> 8/2 = 4). \n",
    "\n",
    "Now the second part: *If **a|b** and **a|c** then **a|(bx+cy)** for any integers **x** and **y***. Let a = 3, b = 6, c = 12,x = 2, y = 1. It is very clear that a|b(b/a = 2)and a|c (c/a = 4). Now bx+cy = 6*2 + 12*1 = 24. **a|(bx+cy)** = 3|24 (meaning 24/3 = 8)"
   ]
  },
  {
   "cell_type": "markdown",
   "metadata": {},
   "source": [
    "**Primes**:  An integer *p* > 1 is called prime if the only positive factors of *p* are 1 and itself. An integer *a* > 1 that is not prime is called composite.\n",
    "<br> \n",
    "\n",
    "For example: **Prime numbers** are the ones that can be divided by only two positive integers namely itself and 1 i.e prime numbers have only two factors. 19 can be divided only by 1 and 19. Since 19 has only two factors it is a prime number.\n",
    "\n",
    "For example: **Composite numbers** are the ones that can be divided by more than two positive integers i.e. composite numbers have more than two factors.\n",
    "8 can be divided by 1, 2, 4, and 8. Since 8 has more than two factors it is composite.\n",
    "<br>\n",
    "Now a very interesting qyestion : *Is 1 prime or composite* ?\n",
    "\n",
    "1 can be divided by just one positive integer which is 1 itself i.e. 1 has only one factor.\n",
    "So 1 does not fit in the definition of either prime or composite number.\n",
    "Hence 1 is *neither prime nor composite*."
   ]
  },
  {
   "cell_type": "markdown",
   "metadata": {},
   "source": [
    "**Theorem 2.2** : Fundamental Theorem of Arithmetic\n",
    "<br>\n",
    "Every postive integer a > 1 can be uniquely expressed as the product of primes.  In other words, there exist unique prime numbers p1 < p2 <.... < pn and corresponding $$ a =  {p1}^{{\\alpha}_1} {p2}^{{\\alpha}_2} .... {pn}^{{\\alpha}_n}$$  where $$ \\alpha_1, \\alpha_2, \\alpha_n  \\in \\mathbb{Z}_{+}$$\n",
    "\n",
    "<br>\n",
    "For example: Let a = 120. The number 120 can be expressed as: **120 = 2 x 2 x 2 x 3 x 5 = $ 2^3 * 3 * 5 $** where p1 = 2, p2 = 3, p3 = 5, $$\\alpha_1 = 3, \\alpha_2 = 1, \\alpha_3 = 1$$."
   ]
  },
  {
   "cell_type": "markdown",
   "metadata": {},
   "source": [
    "### Coding Exercise"
   ]
  },
  {
   "cell_type": "markdown",
   "metadata": {},
   "source": [
    "* Implement a program to find the prime factors of a number "
   ]
  },
  {
   "cell_type": "code",
   "execution_count": 1,
   "metadata": {},
   "outputs": [
    {
     "data": {
      "text/plain": [
       "PrimeFactors (generic function with 1 method)"
      ]
     },
     "execution_count": 1,
     "metadata": {},
     "output_type": "execute_result"
    }
   ],
   "source": [
    "function PrimeFactors(n)\n",
    "\n",
    "FactorList = [];\n",
    "factor = 2;\n",
    "nnew = n; \n",
    "    while factor <= sqrt(nnew)\n",
    "        if mod(nnew,factor) == 0\n",
    "        FactorList = push!(FactorList, factor)\n",
    "            nnew = nnew/factor\n",
    "    else\n",
    "        factor = factor + 1;\n",
    "    end\n",
    "    \n",
    "end\n",
    "    FactorList = push!(FactorList, nnew)\n",
    "end"
   ]
  },
  {
   "cell_type": "code",
   "execution_count": 3,
   "metadata": {},
   "outputs": [
    {
     "data": {
      "text/plain": [
       "2-element Array{Any,1}:\n",
       "  2  \n",
       " 13.0"
      ]
     },
     "execution_count": 3,
     "metadata": {},
     "output_type": "execute_result"
    }
   ],
   "source": [
    "PrimeFactors(26)"
   ]
  },
  {
   "cell_type": "markdown",
   "metadata": {},
   "source": [
    "**Thinking Exercise** : In the above code why we are checking only upto sqrt(number) i.e ..** while factor <= sqrt(nnew)** Instead of the above code try running the code given below. What makes the first code more efficient than the code given below."
   ]
  },
  {
   "cell_type": "code",
   "execution_count": 11,
   "metadata": {},
   "outputs": [],
   "source": [
    "n =  17;\n",
    "nnew  = copy(n);\n",
    "factor = 2;\n",
    "Factorlist =[];\n",
    "while (factor <= n)\n",
    "if (mod(nnew,factor) == 0)\n",
    "    nnew = nnew/factor;\n",
    "        Factorlist = push!(Factorlist,factor);\n",
    "    else \n",
    "        factor = factor + 1;\n",
    "    end\n",
    "end\n",
    "\n",
    "        \n",
    "    \n"
   ]
  },
  {
   "cell_type": "code",
   "execution_count": 12,
   "metadata": {},
   "outputs": [
    {
     "data": {
      "text/plain": [
       "1-element Array{Any,1}:\n",
       " 17"
      ]
     },
     "execution_count": 12,
     "metadata": {},
     "output_type": "execute_result"
    }
   ],
   "source": [
    "Factorlist"
   ]
  },
  {
   "cell_type": "markdown",
   "metadata": {},
   "source": [
    "**Theorem 2.3**\n",
    "<br> \n",
    "There are infinitely many primes."
   ]
  },
  {
   "cell_type": "markdown",
   "metadata": {},
   "source": [
    "**Greatest Common Integers and Relatively Prime Integers**"
   ]
  },
  {
   "cell_type": "markdown",
   "metadata": {},
   "source": [
    "Let *a* and *b* be two integers and not both equal to zero. Then **gcd(a,b)** is the largest integer *d* that divides both *a* and *b*.\n",
    "<br>\n",
    "If gcd(a,b) = 1, then we say that *a* and *b* are relatively prime.\n",
    "<br>\n",
    "Find gcd(50,165)\n",
    "<br>\n",
    "50 = $2^{2} * 5 * 1$ , 165 = $3 * 5 * 11 * 1$\n",
    "<br>\n",
    "Here 5 is the greatest common divisor that divides both a and b i.e (5|50 and 5|165)"
   ]
  },
  {
   "cell_type": "markdown",
   "metadata": {},
   "source": [
    "**Least Common Multiple**"
   ]
  },
  {
   "cell_type": "markdown",
   "metadata": {},
   "source": [
    "**lcm(a,b)** is the smallest integer *m* that is divisible by both *a* and *b*\n",
    "<br>\n",
    "For example : Find lcm(12,28)\n",
    "<br>\n",
    "Let us take the multiples if 12 and 28 and see which is smallest common integer that is divisible by both 12 and 28.\n",
    "<br>\n",
    "\n",
    "Multiples of 12 | 12 | 24 | 36 | 48 | 60 | 72 | *84* | 96 |\n",
    "--- |\n",
    "Multiples of 28 | 28 | 56 |** *84* ** | __ | __ | __ | __ |  __\n",
    "\n",
    "<br>\n",
    "Clearly is *84* is the least common multiple that is divisible by both *12* and *28*.\n"
   ]
  },
  {
   "cell_type": "markdown",
   "metadata": {},
   "source": [
    "**The Division Algorithm**"
   ]
  },
  {
   "cell_type": "markdown",
   "metadata": {},
   "source": [
    "If *a* is an integer and *d* is any positive integer, then there exist unique integers *q* and *r* satisfying 0 $\\leq$ r < d, such that *a = dq + r*. Here *a* is called the dividend, *d* is called the divisor, *q* is called the quotient, and *r* is called the remainder.\n",
    "\n",
    "For example : a = 5, d = 2; then $q = floor(a/d) => floor(5/2) = 2$ and $r =  a - d * q => 5 -2*2 = 1$\n",
    "<br> \n",
    "$a = d*q + r => 2 * 2 + 1 = 5$\n",
    "\n",
    "**Floor Function** : is a function from the set of real numbers to the set of integers, defined by\n",
    "\n",
    "floor(x) = $\\lfloor x  \\rfloor$ = the greatest integer *k* that is less than or equal to *x*. For example, floor(5.7) = 5."
   ]
  },
  {
   "cell_type": "markdown",
   "metadata": {},
   "source": [
    "### Coding Exercise"
   ]
  },
  {
   "cell_type": "markdown",
   "metadata": {},
   "source": [
    "* Implement the Division Algorithm"
   ]
  },
  {
   "cell_type": "code",
   "execution_count": 19,
   "metadata": {},
   "outputs": [
    {
     "name": "stderr",
     "output_type": "stream",
     "text": [
      "WARNING: Method definition DivAlg(Any, Any) in module Main at In[14]:5 overwritten at In[19]:5.\n"
     ]
    },
    {
     "data": {
      "text/plain": [
       "DivAlg (generic function with 1 method)"
      ]
     },
     "execution_count": 19,
     "metadata": {},
     "output_type": "execute_result"
    }
   ],
   "source": [
    "#Division Algorithm\n",
    "function DivAlg(a,d)\n",
    "    #  a is the dividend\n",
    "    # d id the divisor\n",
    "    q = floor(a/d);\n",
    "    r = a - d * q;\n",
    "    return q,r;\n",
    "end"
   ]
  },
  {
   "cell_type": "code",
   "execution_count": 20,
   "metadata": {},
   "outputs": [
    {
     "data": {
      "text/plain": [
       "(2.0,1.0)"
      ]
     },
     "execution_count": 20,
     "metadata": {},
     "output_type": "execute_result"
    }
   ],
   "source": [
    "(q,r) = DivAlg(5,2)"
   ]
  },
  {
   "cell_type": "markdown",
   "metadata": {},
   "source": [
    "**The Euclidean Algorithn**"
   ]
  },
  {
   "cell_type": "markdown",
   "metadata": {},
   "source": [
    "In Euclidean algorithm, we repeatedly apply division algorithm. It is based on the following propety.\n",
    "\n",
    "If *a*, *d*, *q*, *r* are the dividend, divisor, quotient and remainder respectively, then **gcd(a,d) = gcd(d,r)** .\n",
    "<br>\n",
    "From Theorem 2.1(b)  * If **a|b** and **a|c** then **a|(bx+cy)** for any integers **x** and  * **y**. Now consider the case ** a = dq + r **, if **e|d** and **e|r** then **e|(dq+r)** => **e|a**. Rearranging, we get **r = a - dq**, since **e|a** and **e|d** then **e|(a-dq)** => **e|r**. This means the set of all common divisors for *r* and *d* is equal to the set of all common divisors for *a* and *d*.\n",
    "\n",
    "For example: Find gcd(100,24)\n",
    "\n",
    "Factors of 100| 2 | 2 | 5 | 5 |\n",
    "---|\n",
    "**Factors of 24** |** 2 **| **2** | 2 | 3 \n",
    "<br>\n",
    "From above table the gcd(100,24) = $ 2 * 2 $ = 4\n",
    "<br> \n",
    "Now using **Euclidean Algorithm** gcd(a,d) = gcd(d,r)\n",
    "\n",
    "$100 = 24 * 4 + 4  $\n",
    "<br>\n",
    "$24 = 4 * 6 + 0 $\n",
    "<br>\n",
    "The last divisor i.e.. 4 is the solution\n",
    "\n",
    "Example 2: Find gcd(100,78)\n",
    "\n",
    "Now applying *Eucledian Algorithm*:\n",
    "$Dividend  =  Divisor * quotient + Remainder => a = d * q + r$\n",
    "<br>\n",
    "Step1 : 100 = 78 x 1 + 22\n",
    "<br>\n",
    "Step2 : 78 = 22 x 3 + 12\n",
    "<br>\n",
    "Step3 : 22 = 12 x 1 + 10\n",
    "<br>\n",
    "Step4: 12 = 10 x 1 + 2\n",
    "<br>\n",
    "Step5 : 10 = 2 x 5 + 0\n",
    "<br>\n",
    "From Euclidean algorithm we know the last divisor 2 is the solution i.e.. gcd(100,78). during each step, If **r1(remainder) ≠ 0**,then continue by dividing the successive divisors by successive remainders until a zero remainder is reached.\n"
   ]
  },
  {
   "cell_type": "markdown",
   "metadata": {},
   "source": [
    "**Algorithm**"
   ]
  },
  {
   "cell_type": "markdown",
   "metadata": {},
   "source": [
    " **Input** : A pair of integers *a* and *b*, not both equal to zero\n",
    " <br>\n",
    " **Output** : gcd(a,b)\n",
    " <br>\n",
    " *Step 1* : Let us assume a $a\\geq b$. If not switch *a* and *b*.\n",
    " <br>\n",
    " *Step 2* : Apply the division algorithm to write ** $ a = q1 * b + r1$**\n",
    " <br>\n",
    " *Step 3* : If **r1 = 0**, **gcd(a,b) = b**.\n",
    " <br>\n",
    " *Step 4* : If **r1  ≠  0**,then continue by dividing the successive divisors by successive remainders until a zero remainder is reached."
   ]
  },
  {
   "cell_type": "markdown",
   "metadata": {},
   "source": [
    "### Coding Exercise"
   ]
  },
  {
   "cell_type": "markdown",
   "metadata": {},
   "source": [
    "* Implement Euclidean algorithm"
   ]
  },
  {
   "cell_type": "code",
   "execution_count": 26,
   "metadata": {},
   "outputs": [
    {
     "name": "stderr",
     "output_type": "stream",
     "text": [
      "WARNING: Method definition EuclidAlg(Any, Any) in module Main at In[22]:3 overwritten at In[26]:5.\n"
     ]
    }
   ],
   "source": [
    "function EuclidAlg(a,b)\n",
    "#**Input** : A pair of integers *a* and *b*, not both equal to zero\n",
    "#**Output** : gcd(a,b)\n",
    "\n",
    "aa = max(a,b);\n",
    "dd = min(a,b);\n",
    "q = floor(aa/dd);\n",
    "r = aa - q * dd;\n",
    "\n",
    "\n",
    "\n",
    "while r > 0\n",
    "    aa = dd;\n",
    "    dd = r;\n",
    "    q = floor(aa/dd);\n",
    "    r = aa - dd * q;\n",
    "    \n",
    "end\n",
    "d = dd; # The last non -zero remainder\n",
    "end"
   ]
  },
  {
   "cell_type": "code",
   "execution_count": 27,
   "metadata": {},
   "outputs": [
    {
     "data": {
      "text/plain": [
       "2.0"
      ]
     },
     "execution_count": 27,
     "metadata": {},
     "output_type": "execute_result"
    }
   ],
   "source": [
    "EuclidAlg(100,78)"
   ]
  },
  {
   "cell_type": "markdown",
   "metadata": {},
   "source": [
    "** Extended Euclidean Algorithm**"
   ]
  },
  {
   "cell_type": "markdown",
   "metadata": {},
   "source": [
    "*Input* : A pair of positive integers *a* and *b* with a $\\geq$ b.\n",
    "<br>\n",
    "*Output* : Three integers, d = gcd(a,b), x and y which satisfies the equation $d = a * x + b * y$\n",
    "\n",
    "For example: a = 100; b = 78;\n",
    "Now applying *Eucledian Algorithm*:\n",
    "$Dividend  =  Divisor * quotient + Remainder => a = d * q + r$\n",
    "<br>\n",
    "Step1 : 100 = 78 x 1 + 22\n",
    "<br>\n",
    "Step2 : 78 = 22 x 3 + 12\n",
    "<br>\n",
    "Step3 : 22 = 12 x 1 + 10\n",
    "<br>\n",
    "Step 4: 12 = 10 x 1 + 2\n",
    "<br>\n",
    "Step5 : 10 = 2 x 5 + 0\n",
    "<br>\n",
    "From Euclidean algorithm we know the last divisor 2 is the solution i.e.. gcd(100,78). During each step, If **r1(remainder) ≠ 0**, then continue by dividing the successive divisors by successive remainders until a zero remainder is reached.\n",
    "\n",
    "Now Extended Euclidean algorithm gives three integers d = gcd(a,b), x and y which satisfies the equation $d = a * x + b * y$ as output.\n",
    "<br>\n",
    "\n",
    "*Step1*\n",
    "* From the above example the remainder from Step4 can be represented as  **gcd(100,78) = 4 = 22 - 12 x 1**\n",
    "<br> \n",
    "* The remainder from Step3 can be represented as **10 = 12 - 2**. Similarly the remainders from Step2 and Step1 can be represented as **12 = 78 - 22 x 3** and **22 = 100 - 78 x 1** respectively. \n",
    "* Our aim is to write **$gcd(100,78) = 100 * x + 78 * y$** .\n",
    "<br>\n",
    "*Step2*\n",
    "<br>\n",
    "* We know 2 = 12 - 10. Now replacing 12 by (78 - 22 x 3) and replacing 10 by  (22 - 12)\n",
    "<br>\n",
    "* 2 = (78 - 22 x 3) -(22 - 12).\n",
    "<br>\n",
    "* Now replacing 22 by (100 -78) in  the above equation.\n",
    "<br>\n",
    "* 2 = (78 - (100 -78) x 3) - ((100 - 78) - 12)\n",
    "<br>\n",
    "* Now replacing 12 by (78 - 22 x 3)\n",
    "<br> \n",
    "* 2 = (78 - (100 -78) x 3) - ((100 - 78) - (78 - 22 x 3))\n",
    "* Now replacing 22 by (100 -78) in  the above equation\n",
    "* 2 = (78 - (100 -78) x 3) - ((100 - 78) - (78 -(100 -78) x 3))\n",
    "* 2 = - 7 x 100 + 9 x 78\n"
   ]
  },
  {
   "cell_type": "markdown",
   "metadata": {},
   "source": [
    "### Coding Exercise "
   ]
  },
  {
   "cell_type": "markdown",
   "metadata": {},
   "source": [
    "* Implement Euclidean algorithm"
   ]
  },
  {
   "cell_type": "code",
   "execution_count": 24,
   "metadata": {},
   "outputs": [
    {
     "data": {
      "text/plain": [
       "EuclidAlgExt (generic function with 1 method)"
      ]
     },
     "execution_count": 24,
     "metadata": {},
     "output_type": "execute_result"
    }
   ],
   "source": [
    "function EuclidAlgExt(a,b)\n",
    "    aa = max(a,b);\n",
    "    bb = min(a,b);\n",
    "    U = [aa 1 0];\n",
    "    V = [bb 0 1];\n",
    "    while V[1] > 0\n",
    "        W = U - floor(U[1]/V[1]) * V;\n",
    "        U = V;\n",
    "        V = W;\n",
    "    end\n",
    "    d = U[1];\n",
    "    x = U[2];\n",
    "    y = U[3];\n",
    "    OutVec = [d x y];\n",
    "end"
   ]
  },
  {
   "cell_type": "code",
   "execution_count": 28,
   "metadata": {},
   "outputs": [
    {
     "data": {
      "text/plain": [
       "1×3 Array{Float64,2}:\n",
       " 2.0  -7.0  9.0"
      ]
     },
     "execution_count": 28,
     "metadata": {},
     "output_type": "execute_result"
    }
   ],
   "source": [
    "a = 100;\n",
    "b = 78;\n",
    "EuclidAlgExt(a,b)"
   ]
  },
  {
   "cell_type": "markdown",
   "metadata": {},
   "source": [
    "### Modular Arithmetic and Congruences"
   ]
  },
  {
   "cell_type": "markdown",
   "metadata": {},
   "source": [
    "*\" It is not knowledge, but the act of learning, not possession but the act of getting there, which grants the greatest enjoyment.\" *\n",
    " ** - Carl Friedrich Gauss**\n",
    "\n"
   ]
  },
  {
   "cell_type": "markdown",
   "metadata": {},
   "source": [
    "<img src=\"carl.jpg\" align =left height=\"200\" width=\"200\" >\n",
    "<br>\n",
    "Figure2.1 Carl Friedrich Gauss\n",
    "<br>\n",
    "\n",
    "*Carl Friedrich Gauss* was a German mathematician who had made significant contribution in   the field of number theory, algebra, statistics, analysis, differential geometry, geodesy, geophysics, mechanics, electrostatics, astronomy, matrix theory, and optics. His work on *congruences and modular arithmetic* plays a crucial role in various cryptosystems\n",
    "<br>\n",
    "\n",
    " ** Definition**  \n",
    " <br>\n",
    " Let *m* be a positive integer. We say that two integers a and b are ** congruent mod(ulo) *m* **, and denote this as **a  ≡ b x (mod m)**, if m | (a - b). The number **m** is called the modulus of the congruency. If m $\\nmid$ ( a- b), we say that a  and b are ** incongruent mod *m* **, and write this as\n",
    " <br>\n",
    " **a  ≢  b x mod(m)**"
   ]
  },
  {
   "cell_type": "markdown",
   "metadata": {},
   "source": [
    "For example: Check 20 $\\equiv$ 10 x mod(5) is valid?\n",
    "<br>\n",
    "From definition of conruent modulo, **a  ≡ b x (mod m)** implies m divides (a - b) written as m | (a - b). Here a = 20, b = 10, m = 5. This means 20  ≡ 10 x mod(5) is valid."
   ]
  },
  {
   "cell_type": "markdown",
   "metadata": {},
   "source": [
    "** Basic Properties of Congruences **"
   ]
  },
  {
   "cell_type": "markdown",
   "metadata": {},
   "source": [
    "* **Reflexivity** - a  ≡ a(mod *m*) for any integer a\n",
    "* **Symmetry** - If a  ≡ b(mod *m*), then b  ≡ a(mod *m*) for any integers a, b.\n",
    "* **Transitivity** - If a  ≡ b(mod *m*) and b  ≡ a(mod *m*), then a  ≡ c(mod *m*) for any integers a,b,c."
   ]
  },
  {
   "cell_type": "markdown",
   "metadata": {},
   "source": [
    "### Modular Integer Systems"
   ]
  },
  {
   "cell_type": "markdown",
   "metadata": {},
   "source": [
    "If *m* is a positive integer, the set of integers modulo *m*, denoted by $\\mathbb{Z}_m$ is the set of possible remainders when dividing by *m* :\n",
    "<br>\n",
    "$\\mathbb{Z}_m$ = {0, 1, 2, ...., m-1}\n",
    "<br>\n",
    "* We define the arithmetic operations of addition, subtraction, multiplication and exponentiation on $\\mathbb{Z}_m$ by performing corresponding arithmetic operations on the integers, converting, whenever convenient, in the final answer to an element of $\\mathbb{Z}_m$ "
   ]
  },
  {
   "cell_type": "markdown",
   "metadata": {},
   "source": [
    "** Addition Table for $\\mathbb{Z}_5$**\n",
    "<br>\n",
    "$\\mathbb{Z}_5$ = {0, 1, 2, 3, 4}\n",
    "\n",
    "<img src=\"mod5png\" align =left height=\"200\" width=\"200\" >"
   ]
  },
  {
   "cell_type": "markdown",
   "metadata": {},
   "source": [
    "** Multiplication table for $\\mathbb{Z}_5$**\n",
    "\n",
    "<img src=\"mod5mult.GIF\" align =left height=\"200\" width=\"200\" >\n"
   ]
  },
  {
   "cell_type": "markdown",
   "metadata": {},
   "source": [
    "**Modular Inverses**\n",
    "\n",
    "For any a $\\in$ $\\mathbb{Z}_m$, we say that a is invertible (or a has a inverse) if there exist another element $a^{-1}$ such that **a . $a^{-1}$ = $a^{-1}$ . a = 1 **. The element $a^{-1}$ if it exist is called multiplicative inverse of a."
   ]
  },
  {
   "cell_type": "markdown",
   "metadata": {},
   "source": [
    "Implement a program to find the modular inverse of a number"
   ]
  },
  {
   "cell_type": "code",
   "execution_count": 44,
   "metadata": {},
   "outputs": [
    {
     "name": "stderr",
     "output_type": "stream",
     "text": [
      "WARNING: Method definition ModInv(Any, Any) in module Main at In[30]:3 overwritten at In[44]:3.\n"
     ]
    },
    {
     "data": {
      "text/plain": [
       "ModInv (generic function with 1 method)"
      ]
     },
     "execution_count": 44,
     "metadata": {},
     "output_type": "execute_result"
    }
   ],
   "source": [
    "function ModInv(a,n)\n",
    "\n",
    "    (d,x,y) = EuclidAlgExt(a,n);\n",
    "    if d > 1\n",
    "        error(\"The number d = $d has no inverse\");\n",
    "    end\n",
    "    if a < n\n",
    "    ainv = mod(y,n);\n",
    "else \n",
    "    ainv = mod(x,n);\n",
    "end\n",
    "end"
   ]
  },
  {
   "cell_type": "code",
   "execution_count": 45,
   "metadata": {},
   "outputs": [
    {
     "data": {
      "text/plain": [
       "4.0"
      ]
     },
     "execution_count": 45,
     "metadata": {},
     "output_type": "execute_result"
    }
   ],
   "source": [
    "a = 4;\n",
    "n = 5;\n",
    "ModInv(a,n)"
   ]
  },
  {
   "cell_type": "code",
   "execution_count": 51,
   "metadata": {},
   "outputs": [
    {
     "data": {
      "text/plain": [
       "moduinv (generic function with 1 method)"
      ]
     },
     "execution_count": 51,
     "metadata": {},
     "output_type": "execute_result"
    }
   ],
   "source": [
    "function moduinv(a,n)\n",
    "    # a is the number\n",
    "    # n is the modulo n\n",
    "out = [];\n",
    "for i = 0 : n-1\n",
    "    if mod(a * i,n) == 1\n",
    "        out = i;\n",
    "        println(out)\n",
    "        end\n",
    "end\n",
    "if out == []\n",
    "    println(\"No Inverse\")\n",
    "end\n",
    "end"
   ]
  },
  {
   "cell_type": "markdown",
   "metadata": {},
   "source": [
    "### Reference"
   ]
  },
  {
   "cell_type": "markdown",
   "metadata": {},
   "source": [
    "\n",
    "[1] Stanoyevitch, Alexander. Introduction to Cryptography with mathematical foundations and computer implementations. CRC Press, 2010."
   ]
  }
 ],
 "metadata": {
  "kernelspec": {
   "display_name": "Julia 0.4.5",
   "language": "julia",
   "name": "julia-0.4"
  },
  "language_info": {
   "file_extension": ".jl",
   "mimetype": "application/julia",
   "name": "julia",
   "version": "0.4.5"
  }
 },
 "nbformat": 4,
 "nbformat_minor": 1
}
