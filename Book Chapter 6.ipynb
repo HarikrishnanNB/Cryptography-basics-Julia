{
 "cells": [
  {
   "cell_type": "markdown",
   "metadata": {},
   "source": [
    "# Introduction to Cryptography "
   ]
  },
  {
   "cell_type": "markdown",
   "metadata": {},
   "source": [
    "## Chapter 6: Representation and Arithmetic of Integers in Different Bases"
   ]
  },
  {
   "cell_type": "markdown",
   "metadata": {},
   "source": [
    "**Base b Representation of Integers**\n",
    "\n",
    "Let b $\\geq$ 2 (the base ) be an integer. Any positive integer *n* can be uniquely represented in the form\n",
    "<br>\n",
    " $n = c_{K}b^{K} + c_{K-1}b^{K-1} + .... +c_{2}b^{2} + c_{1}b + c_{0}b^{0}$ = $\\sum_{k=0}^{K} c_{k}b^{k} $ where K and $c_{i} \\in$ {0,1,2,......,b-1} and $c_{k} > 0 $. This expansion is called the base b expansion of n.\n",
    "<br>\n",
    "For example, Find the integer equvalent of the following expansion: [1234567] (base 8)\n",
    "\n",
    "$ 1 x 8^6 + 2 x 8^5 + 3 x 8^4 + 4 x 8^3 + 5 x 8^2 + 6 x 8^1 + 7 x 8^0  = 342391 $\n",
    "<br>\n",
    "Base 2 expansion is called binary expansion. Expansion in  Base 3, 8 and 16 are known as ternary, octal and hexadecimal \n",
    " "
   ]
  },
  {
   "cell_type": "markdown",
   "metadata": {},
   "source": [
    "### Coding Exercise"
   ]
  },
  {
   "cell_type": "markdown",
   "metadata": {},
   "source": [
    "** Write a program to implement the integer equvalent of any base b**"
   ]
  },
  {
   "cell_type": "code",
   "execution_count": 1,
   "metadata": {
    "collapsed": false
   },
   "outputs": [
    {
     "data": {
      "text/plain": [
       "baseb2int (generic function with 1 method)"
      ]
     },
     "execution_count": 1,
     "metadata": {},
     "output_type": "execute_result"
    }
   ],
   "source": [
    "function  baseb2int(vec,b)\n",
    "\n",
    "N = length(vec);\n",
    "y=0;\n",
    "for k=N:-1:1\n",
    "        y = y + b^(N-k)*vec[k];\n",
    "end\n",
    "    return y\n",
    "end"
   ]
  },
  {
   "cell_type": "code",
   "execution_count": 5,
   "metadata": {
    "collapsed": false
   },
   "outputs": [
    {
     "data": {
      "text/plain": [
       "342391"
      ]
     },
     "execution_count": 5,
     "metadata": {},
     "output_type": "execute_result"
    }
   ],
   "source": [
    "vec =[1 2 3 4 5 6 7];\n",
    "b =8\n",
    "baseb2int(vec,b)"
   ]
  },
  {
   "cell_type": "markdown",
   "metadata": {},
   "source": []
  }
 ],
 "metadata": {
  "kernelspec": {
   "display_name": "Julia 0.5.2",
   "language": "julia",
   "name": "julia-0.5"
  },
  "language_info": {
   "file_extension": ".jl",
   "mimetype": "application/julia",
   "name": "julia",
   "version": "0.5.2"
  }
 },
 "nbformat": 4,
 "nbformat_minor": 0
}
