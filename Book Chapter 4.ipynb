{
 "cells": [
  {
   "cell_type": "markdown",
   "metadata": {},
   "source": [
    "# Introduction to Cryptography"
   ]
  },
  {
   "cell_type": "markdown",
   "metadata": {},
   "source": [
    "## Chapter 4 : Matrices and Hill Cryptosystems"
   ]
  },
  {
   "cell_type": "markdown",
   "metadata": {},
   "source": [
    "** Inverses of a 2x2 matrices**\n",
    "\n",
    "For a 2x2 matrix, $A =  \\begin{bmatrix}\n",
    "      a & b \\\\\n",
    "      c & d \\\\\n",
    "      \\end{bmatrix}$, with nonzero determinant det(A) = ad - bc, the inverse matrix is given by $A^{-1} =1/det(A) \\begin{bmatrix}\n",
    "      d & -b \\\\\n",
    "      -c & a \\\\\n",
    "      \\end{bmatrix}$\n",
    "      "
   ]
  },
  {
   "cell_type": "markdown",
   "metadata": {},
   "source": [
    "** Modular Integer Matrices**\n",
    "\n",
    "For a fixed integer m > 1, we consider matries whose entries are integers mod *m*, that is, are elements in $\\mathbb{Z_m}$. Such a matrix is called a modular integer matrix. \n",
    "\n",
    "For examlple : Let $B =  \\begin{bmatrix}\n",
    "      3 & 0 \\\\\n",
    "      4 & 3 \\\\\n",
    "      \\end{bmatrix}$ and $A =  \\begin{bmatrix}\n",
    "      4 & 2 \\\\\n",
    "      1 & 3 \\\\\n",
    "      \\end{bmatrix}$. Considering matrices mod 5, then do the following operations\n",
    "      <br>\n",
    "      A + B\n",
    "      <br>\n",
    "       $A+B =  \\begin{bmatrix}\n",
    "      3+4 & 0+2 \\\\\n",
    "      4+1 & 3+3 \\\\\n",
    "      \\end{bmatrix}$ =$\\begin{bmatrix}\n",
    "      7 & 2 \\\\\n",
    "      5 & 6 \\\\\n",
    "      \\end{bmatrix}$ $\\equiv$ $\\begin{bmatrix}\n",
    "      7-5 & 2 \\\\\n",
    "      5-5 & 6-5 \\\\\n",
    "      \\end{bmatrix}$ (mod 5) $\\equiv$ $\\begin{bmatrix}\n",
    "      2 & 2 \\\\\n",
    "      0 & 1 \\\\\n",
    "      \\end{bmatrix}$ (mod 5)\n"
   ]
  },
  {
   "cell_type": "markdown",
   "metadata": {},
   "source": [
    "** Invertibility of Square Matrix Modular Integer Matrices**\n",
    "\n",
    " A square modular integer matrix A is invertible (mod *m*) if, and only if, its determinant det(A) is relatively prime to the modulus *m* i.e.., gcd(det(A),m) =  1\n",
    " \n",
    " For a 2x2 modular matrix, $A =  \\begin{bmatrix}\n",
    "      a & b \\\\\n",
    "      c & d \\\\\n",
    "      \\end{bmatrix}$, with nonzero determinant det(A) = ad - bc, the inverse matrix is given by $A^{-1} =det(A)^{-1} \\begin{bmatrix}\n",
    "      d & -b \\\\\n",
    "      -c & a \\\\\n",
    "      \\end{bmatrix}$(mod *m*), where $det(A)^{-1}$ is the inverse of det(A)(mod *m*)"
   ]
  },
  {
   "cell_type": "markdown",
   "metadata": {},
   "source": [
    "** The Hill Cryptosystems**"
   ]
  },
  {
   "cell_type": "markdown",
   "metadata": {},
   "source": [
    "The key in Hill Cryptosystem is an invertible encoding matrix A of integers mod 26. The block length *r* of the system is the number of rows (columns) of the matrix A. Given a plaintext message, we first translate it into a string of integers mod 26. Thus we may represent the plaintext message as a vector $[p_{1}p_{2}p_{3}...p_{l}]$, where each $p_{i}$ is an element of $\\mathbb{Z}_{26}$ representing the corresponding English letter, and *l* is the length of the plaintext message. We then arrange the elements of this message into an r- rowed matrix *P* by vertically stacking the plaintext elements $p_{i}$  in order.\n",
    "<br>\n",
    "$P = \n",
    " \\begin{bmatrix}\n",
    "  p_{1} & p_{r+1} & \\cdots  \\\\\n",
    "  p_{2} & p_{r+2} & \\cdots  \\\\\n",
    "  \\vdots  & \\vdots  & \\ddots & \\vdots  \\\\\n",
    "  p_{r} & p_{2r} & \\cdots  \n",
    " \\end{bmatrix}$\n",
    " <br>\n",
    " The encryption is perfomed by a modular matrix multiplication , \n",
    " C $\\equiv$ AP , $C \\equiv \n",
    " \\begin{bmatrix}\n",
    "  c_{1} & c_{r+1} & \\cdots  \\\\\n",
    "  c_{2} & c_{r+2} & \\cdots  \\\\\n",
    "  \\vdots  & \\vdots  & \\ddots & \\vdots  \\\\\n",
    "  c_{r} & c_{2r} & \\cdots  \n",
    " \\end{bmatrix}$ (mod 26). The matrix A is chosen invertible. While decrypting multiply C by $A^{-1}$.\n",
    " <br>\n",
    " $A^{-1}C =  A^{-1}(AP) = (A^{-1}A)P = IP = P$"
   ]
  },
  {
   "cell_type": "code",
   "execution_count": null,
   "metadata": {
    "collapsed": false
   },
   "outputs": [],
   "source": [
    "function  Int2LCText(Vec)\n",
    "    #str = Int2LCText(Vec)\n",
    "    #Input: Vec =  A vector of non negative integers in the range(0,1,2,...,25)\n",
    "    #Output: str = a string of corresponding Lower case Text (alphabet: a, b,...,z)\n",
    "    #0 => a, 1 => b...., 25 =>z\n",
    "x= 1;\n",
    "y = 'a';\n",
    "\n",
    "+(x::Integer,y::Char);\n",
    "    if (minimum(Vec) < 0 || maximum(Vec)> 25) \n",
    "        println(\"Error!!Input Integer components must between 0 and 25\")\n",
    "    else \n",
    "        str=[]; \n",
    "        for i = 1: length(Vec)\n",
    "            str =push!(str,Vec[i]+ y)\n",
    "        end\n",
    "    end\n",
    "    return str\n",
    "end"
   ]
  },
  {
   "cell_type": "code",
   "execution_count": null,
   "metadata": {
    "collapsed": false
   },
   "outputs": [],
   "source": [
    "function  Int2UCText(Vec)\n",
    "    #str = Int2LCText(Vec)\n",
    "    #Input: Vec =  A vector of non negative integers in the range(0,1,2,...,25)\n",
    "    #Output: str = a string of corresponding Upper case Text (alphabet: A, B,...,Z)\n",
    "    #0 => A, 1 => B...., 25 =>Z\n",
    "x= 1;\n",
    "y = 'A';\n",
    "\n",
    "+(x::Integer,y::Char);\n",
    "    if (minimum(Vec) < 0 || maximum(Vec)> 25) \n",
    "        println(\"Error!!Input Integer components must between 0 and 25\")\n",
    "    else \n",
    "        str=[]; \n",
    "        for i = 1: length(Vec)\n",
    "            str =push!(str,Vec[i]+ y)\n",
    "        end\n",
    "    end\n",
    "    return str\n",
    "end\n"
   ]
  },
  {
   "cell_type": "code",
   "execution_count": null,
   "metadata": {
    "collapsed": false
   },
   "outputs": [],
   "source": [
    "function LCTEXT2Int(str)\n",
    "x= 1;\n",
    "y = 'a';\n",
    "\n",
    "+(x::Integer,y::Char);\n",
    "    if (minimum(str) < 'a' || maximum(str)> 'z') \n",
    "        println(\"Error!!Input alphabet components must between a and z\")\n",
    "    else  \n",
    "        Vec =[]; \n",
    "        for i = 1: length(str)\n",
    "            Vec =push!(Vec,Int(str[i]) - Int(y))\n",
    "        end\n",
    "    end\n",
    "    return Vec\n",
    "end"
   ]
  },
  {
   "cell_type": "code",
   "execution_count": null,
   "metadata": {
    "collapsed": false
   },
   "outputs": [],
   "source": [
    "function UCTEXT2Int(str)\n",
    "x= 1;\n",
    "y = 'A';\n",
    "\n",
    "+(x::Integer,y::Char);\n",
    "    if (minimum(str) < 'A' || maximum(str)> 'Z') \n",
    "        println(\"Error!!Input Alphabet components must between A and Z\")\n",
    "    else  \n",
    "        Vec =[]; \n",
    "        for i = 1: length(str)\n",
    "            Vec =push!(Vec,Int(str[i]) - Int(y))\n",
    "        end\n",
    "    end\n",
    "    return Vec\n",
    "end"
   ]
  },
  {
   "cell_type": "code",
   "execution_count": null,
   "metadata": {
    "collapsed": false
   },
   "outputs": [],
   "source": [
    "function ModInv(a,n)\n",
    "\n",
    "    (d,x,y) = EuclidAlgExt(a,n);\n",
    "    if d > 1\n",
    "        error(\"The number d = $d has no inverse\");\n",
    "    end\n",
    "    if a < n\n",
    "    ainv = mod(y,n);\n",
    "else \n",
    "    ainv = mod(x,n);\n",
    "end\n",
    "end"
   ]
  },
  {
   "cell_type": "code",
   "execution_count": null,
   "metadata": {
    "collapsed": false
   },
   "outputs": [],
   "source": [
    "function EuclidAlgExt(a,b)\n",
    "    aa = max(a,b);\n",
    "    bb = min(a,b);\n",
    "    U = [aa 1 0];\n",
    "    V = [bb 0 1];\n",
    "    while V[1] > 0\n",
    "        W = U - floor(U[1]/V[1]) * V;\n",
    "        U = V;\n",
    "        V = W;\n",
    "    end\n",
    "    d = U[1];\n",
    "    x = U[2];\n",
    "    y = U[3];\n",
    "    OutVec = [d x y];\n",
    "end"
   ]
  },
  {
   "cell_type": "code",
   "execution_count": null,
   "metadata": {
    "collapsed": false
   },
   "outputs": [],
   "source": [
    "function  MatModInv(A,n)\n",
    "#Ainv = MatModInv(A,n)\n",
    "#Input:  A = a square matrix of integers mod n, and n = an integer modulus\n",
    "#Output: Ainv = the multiplicative inverse of A mod n, if this inverse\n",
    "#exists, otherwise will produce an error message.\n",
    "\n",
    "  d = trunc(Int,mod(round(det(A)),n))\n",
    "    if gcd(d,n)>1 \n",
    "        error(\"The matrix %d has no inverse mod , $A, $n\")\n",
    "    end\n",
    "Ainv = mod(round(det(A)*inv(A))*ModInv(d,n), n);\n",
    "end"
   ]
  },
  {
   "cell_type": "markdown",
   "metadata": {},
   "source": [
    "* **Implement Encryption of HillCryptosystem**"
   ]
  },
  {
   "cell_type": "code",
   "execution_count": null,
   "metadata": {
    "collapsed": false
   },
   "outputs": [],
   "source": [
    "function  HillCrypt(str,A)\n",
    "# StrOut = HillCrypt(str,A)\n",
    "# Inputs: str = a string of lower case text (alphabet: a, b, ..., z)\n",
    "#        A = an invertible matrix mod 26\n",
    "# Output: StrOut = a string of corresponding Upper-Case ciphertext (alphabet: A, B, ..., Z):\n",
    "# resulting from encrypting str using the Hill cipher with encryption\n",
    "# matrix A\n",
    "\n",
    "(n,n) = size(A);\n",
    "Vec = LCTEXT2Int(str);\n",
    "lenVec = length(Vec);  \n",
    "remlen = mod(lenVec,n); #if this is postive, we need to append on the plaintext vector \n",
    "                        #to make its length a multiple of n\n",
    "if remlen > 0\n",
    "    addlen = n - remlen;\n",
    "   # Vec[lenVec + 1: lenVec + addlen] = 13;\n",
    "    Vec = push!(Vec, 13);\n",
    "end\n",
    "numCols = length(Vec)/n;\n",
    "P = reshape(Vec,n,convert(Int64,numCols));\n",
    "C = mod(A*P,26);\n",
    "VecOut = C[:]';\n",
    "StrOut = Int2UCText(VecOut);\n",
    "end"
   ]
  },
  {
   "cell_type": "code",
   "execution_count": null,
   "metadata": {
    "collapsed": false
   },
   "outputs": [],
   "source": [
    "str =\"codebluealert\";\n",
    "A =[1 2; 1 3];\n",
    "HillCrypt(str,A)"
   ]
  },
  {
   "cell_type": "markdown",
   "metadata": {},
   "source": [
    "* **Implement Decryprtion of HillCryptosystem**"
   ]
  },
  {
   "cell_type": "code",
   "execution_count": null,
   "metadata": {
    "collapsed": false
   },
   "outputs": [],
   "source": [
    "function  HillDeCrypt(STR,A)\n",
    "# strOut = HillDeCrypt(STR,A)\n",
    "# Inputs: STR = a string of upper case text (alphabet: A, B, ..., Z)\n",
    "#         A = an invertible matrix mod 26\n",
    "# Output: strOut = a string of corresponding lowercase plaintext (alphabet: a, b, ..., z):\n",
    "# resulting from decrypting STR using the Hill cipher with encryption\n",
    "# matrix A\n",
    "\n",
    "\n",
    "\n",
    "(n,n) = size(A);\n",
    "Ainv = MatModInv(A,26);\n",
    "Vec = UCTEXT2Int(STR);\n",
    "\n",
    "lenVec = length(Vec);  \n",
    "    numCols = length(Vec)/n;\n",
    "C = reshape(Vec,n,convert(Int64,numCols));\n",
    "U = mod(Ainv*C,26);\n",
    "VecOut = U[:]';\n",
    "strOut = Int2LCText(trunc(Int64,VecOut));\n",
    "    return strOut\n",
    "end"
   ]
  },
  {
   "cell_type": "code",
   "execution_count": null,
   "metadata": {
    "collapsed": false
   },
   "outputs": [],
   "source": [
    "A = [1 2; 1 3];\n",
    "STR = \"ESLPXICGWHMDTG\"\n",
    "r = HillDeCrypt(STR,A)"
   ]
  },
  {
   "cell_type": "markdown",
   "metadata": {},
   "source": [
    "* **Implement Hill Encoding Matrix**"
   ]
  },
  {
   "cell_type": "code",
   "execution_count": 10,
   "metadata": {
    "collapsed": false
   },
   "outputs": [
    {
     "name": "stderr",
     "output_type": "stream",
     "text": [
      "WARNING: Method definition HillEncodingMatrixGenerator(Any) in module Main at In[8]:3 overwritten at In[10]:3.\n"
     ]
    },
    {
     "data": {
      "text/plain": [
       "HillEncodingMatrixGenerator (generic function with 1 method)"
      ]
     },
     "execution_count": 10,
     "metadata": {},
     "output_type": "execute_result"
    }
   ],
   "source": [
    "function  HillEncodingMatrixGenerator(n)\n",
    "#% A = HillEncodingMatrixGenerator(n)\n",
    "done = 0;\n",
    "    A = [];\n",
    "while done == 0;\n",
    "        A = floor(26*rand(n,n));\n",
    "    detA = mod(det(A),26);\n",
    "    if gcd(trunc(Int64,detA), 26) == 1; \n",
    "        done = 1; \n",
    "    end\n",
    "end\n",
    "    return A;\n",
    "end\n",
    "\n"
   ]
  },
  {
   "cell_type": "code",
   "execution_count": 11,
   "metadata": {
    "collapsed": false
   },
   "outputs": [
    {
     "data": {
      "text/plain": [
       "3×3 Array{Float64,2}:\n",
       " 23.0  24.0  25.0\n",
       " 15.0  19.0  12.0\n",
       " 22.0  20.0   0.0"
      ]
     },
     "execution_count": 11,
     "metadata": {},
     "output_type": "execute_result"
    }
   ],
   "source": [
    "HillEncodingMatrixGenerator(3)"
   ]
  },
  {
   "cell_type": "markdown",
   "metadata": {},
   "source": [
    "$18 \\equiv 0\\ (\\textrm{mod}\\ 9) \\not\\equiv 2\\ (\\textrm{mod}\\ 9)$"
   ]
  },
  {
   "cell_type": "code",
   "execution_count": null,
   "metadata": {
    "collapsed": true
   },
   "outputs": [],
   "source": []
  }
 ],
 "metadata": {
  "kernelspec": {
   "display_name": "Julia 0.5.2",
   "language": "julia",
   "name": "julia-0.5"
  },
  "language_info": {
   "file_extension": ".jl",
   "mimetype": "application/julia",
   "name": "julia",
   "version": "0.5.2"
  }
 },
 "nbformat": 4,
 "nbformat_minor": 0
}
